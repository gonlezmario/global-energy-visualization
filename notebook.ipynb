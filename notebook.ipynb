{
 "cells": [
  {
   "cell_type": "markdown",
   "metadata": {},
   "source": [
    "# Global Analysis of Renewable and Non-Renewable Energy Distribution\n",
    "### Author: Mario Gonzalez\n",
    "\n",
    "## Objective\n",
    "This Jupyter Notebook uses various formatted databases to extract\n",
    "meaningful data and visualize global power distribution. The analysis\n",
    "focuses on the worldwide distribution of installed capacity for both\n",
    "renewable and non-renewable energy sources, as well as their evolution\n",
    "over time. It also takes into account subsidies for renewable and\n",
    "non-renewable technologies by country.\n",
    "\n",
    "### Disclaimer\n",
    "This script is provided as-is, without any warranty or guarantee. Use it\n",
    "at your own risk."
   ]
  },
  {
   "cell_type": "markdown",
   "metadata": {},
   "source": [
    "# Data Cleaning and Processing\n",
    "\n",
    "This section involves the cleaning and processing of the following databases,  \n",
    "which will be used in the subsequent analysis.\n",
    "\n",
    "## Data Sources\n",
    "\n",
    "- **Global Power Plant Database**  \n",
    "  https://datasets.wri.org/datasets/global-power-plant-database\n",
    "\n",
    "- **Fossil Fuel Subsidies**  \n",
    "  https://www.iea.org/topics/fossil-fuel-subsidies\n",
    "\n",
    "- **Government Energy Spending Tracker: Policy Database**  \n",
    "  https://www.iea.org/data-and-statistics/data-tools/government-energy-spending-tracker-policy-database\n",
    "\n",
    "- **World Bank API**  \n",
    "  https://documents.worldbank.org/en/publication/documents-reports/api"
   ]
  },
  {
   "cell_type": "code",
   "execution_count": 18,
   "metadata": {},
   "outputs": [],
   "source": [
    "# Imports\n",
    "import pandas as pd\n",
    "import re\n",
    "import requests\n",
    "import csv"
   ]
  },
  {
   "cell_type": "markdown",
   "metadata": {},
   "source": [
    "## Global Power Plant Database\n",
    "\n",
    "The database is already clean and well-formatted in a `.csv` file.  \n",
    "Using `pandas`, it is easy to load the data into a DataFrame. Since the  \n",
    "database is quite large and much of the analysis relies on it, a detailed  \n",
    "description is provided during the execution of the notebook."
   ]
  },
  {
   "cell_type": "code",
   "execution_count": null,
   "metadata": {},
   "outputs": [
    {
     "name": "stderr",
     "output_type": "stream",
     "text": [
      "C:\\Users\\Mario\\AppData\\Local\\Temp\\ipykernel_16252\\3986076487.py:2: DtypeWarning: Columns (10) have mixed types. Specify dtype option on import or set low_memory=False.\n",
      "  df_global_power_plant = pd.read_csv(\"original-databases\\GlobalPowerPlantDB.csv\")\n",
      "C:\\Users\\Mario\\AppData\\Local\\Temp\\ipykernel_16252\\3986076487.py:5: DtypeWarning: Columns (10) have mixed types. Specify dtype option on import or set low_memory=False.\n",
      "  df_global_power_plant = pd.read_csv(\n"
     ]
    }
   ],
   "source": [
    "# Column data type since the db is quite big and infering type with pandas is\n",
    "# quite memory demanding\n",
    "dtype_dict = {\n",
    "    \"country\": str,\n",
    "    \"country_long\": str,\n",
    "    \"name\": str,\n",
    "    \"gppd_idnr\": str,\n",
    "    \"capacity_mw\": float,\n",
    "    \"latitude\": float,\n",
    "    \"longitude\": float,\n",
    "    \"primary_fuel\": str,\n",
    "    \"other_fuel1\": str,\n",
    "    \"other_fuel2\": str,\n",
    "    \"other_fuel3\": str,\n",
    "    \"commissioning_year\": float,\n",
    "    \"owner\": str,\n",
    "    \"source\": str,\n",
    "    \"url\": str,\n",
    "    \"geolocation_source\": str,\n",
    "    \"wepp_id\": str,\n",
    "    \"year_of_capacity_data\": float,\n",
    "    \"generation_gwh_2013\": float,\n",
    "    \"generation_gwh_2014\": float,\n",
    "    \"generation_gwh_2015\": float,\n",
    "    \"generation_gwh_2016\": float,\n",
    "    \"generation_gwh_2017\": float,\n",
    "    \"generation_gwh_2018\": float,\n",
    "    \"generation_gwh_2019\": float,\n",
    "    \"generation_data_source\": str,\n",
    "    \"estimated_generation_gwh_2013\": float,\n",
    "    \"estimated_generation_gwh_2014\": float,\n",
    "    \"estimated_generation_gwh_2015\": float,\n",
    "    \"estimated_generation_gwh_2016\": float,\n",
    "    \"estimated_generation_gwh_2017\": float,\n",
    "    \"estimated_generation_note_2013\": str,\n",
    "    \"estimated_generation_note_2014\": str,\n",
    "    \"estimated_generation_note_2015\": str,\n",
    "    \"estimated_generation_note_2016\": str,\n",
    "    \"estimated_generation_note_2017\": str,\n",
    "}\n",
    "\n",
    "# DtypeWarning: Columns (10) have mixed types (other_fuel3) -> it should be str\n",
    "df_global_power_plant = pd.read_csv(\n",
    "    \"original-databases\\\\GlobalPowerPlantDB.csv\",\n",
    "    dtype=dtype_dict,\n",
    ")"
   ]
  },
  {
   "cell_type": "markdown",
   "metadata": {},
   "source": [
    "## Fossil Fuel Subsidies Database\n",
    "\n",
    "The database is provided in `.xlsx` format.  \n",
    "The first step is to list all the available sheets and extract the data  \n",
    "from each one individually.\n"
   ]
  },
  {
   "cell_type": "code",
   "execution_count": 20,
   "metadata": {},
   "outputs": [
    {
     "data": {
      "text/plain": [
       "['Subsidies by country', 'Indicators by country', 'Transport Oil Subsidies']"
      ]
     },
     "metadata": {},
     "output_type": "display_data"
    }
   ],
   "source": [
    "# Load the Excel file\n",
    "file_path = \"original-databases/Subsidies 2010-2023.xlsx\"\n",
    "xls = pd.ExcelFile(file_path)\n",
    "\n",
    "# List all sheet names\n",
    "display(xls.sheet_names)\n",
    "\n",
    "# Expected result:\n",
    "# ['Subsidies by country', 'Indicators by country', 'Transport Oil Subsidies']"
   ]
  },
  {
   "cell_type": "markdown",
   "metadata": {},
   "source": [
    "### Subsidies by Country Sheet\n",
    "\n",
    "This first sheet contains two tables, covering data from 2010 to 2023.  \n",
    "The first table shows the total subsidies for all countries, in million USD.  \n",
    "The second table presents subsidy values for each individual country.\n"
   ]
  },
  {
   "cell_type": "code",
   "execution_count": 21,
   "metadata": {},
   "outputs": [],
   "source": [
    "# Load the \"Subsidies by country\" sheet into a DataFrame\n",
    "df_subsidies_by_country = pd.read_excel(file_path, sheet_name=\"Subsidies by country\", header=None)\n",
    "\n",
    "# Extract the first table\n",
    "total_subsidies_table_raw = df_subsidies_by_country.iloc[4:10].copy()\n",
    "# Use the first row of this slice as the header\n",
    "total_subsidies_table_raw.columns = total_subsidies_table_raw.iloc[0]\n",
    "# Exclude the header row from the data and reset the index\n",
    "total_subsidies_table = total_subsidies_table_raw.iloc[1:].reset_index(drop=True)\n",
    "\n",
    "# Extract the second table\n",
    "subsidies_by_country_raw = df_subsidies_by_country.iloc[11:252].copy()\n",
    "# Use the first row of the second table as the header\n",
    "subsidies_by_country_raw.columns = subsidies_by_country_raw.iloc[0]\n",
    "# Drop the header row and reset the index\n",
    "subsidies_by_country_table = subsidies_by_country_raw.iloc[1:].reset_index(drop=True)\n",
    "\n",
    "# Save both tables into CSV to check the dataframes were correctly loaded\n",
    "total_subsidies_table.to_csv('cleaned-databases/total-subsidies-table.csv', index=False)\n",
    "subsidies_by_country_table.to_csv('cleaned-databases/subsidies-by-country.csv', index=False)"
   ]
  },
  {
   "cell_type": "markdown",
   "metadata": {},
   "source": [
    "### Indicators by Country Sheet\n",
    "\n",
    "This sheet is simpler and contains a single table,  \n",
    "with one country per row."
   ]
  },
  {
   "cell_type": "code",
   "execution_count": 22,
   "metadata": {},
   "outputs": [],
   "source": [
    "# Load the \"Subsidies by country\" sheet into a DataFrame\n",
    "df_indicators_by_country = pd.read_excel(file_path, sheet_name=\"Indicators by country\", header=None)\n",
    "\n",
    "# Use the first row of the actual table as the header\n",
    "indicators_by_country_raw = df_indicators_by_country.iloc[3:44].copy()\n",
    "indicators_by_country_raw.columns = indicators_by_country_raw.iloc[0]\n",
    "\n",
    "# Exclude the header row from the data and reset the index\n",
    "indicators_by_country = indicators_by_country_raw.iloc[1:].reset_index(drop=True)\n",
    "\n",
    "# Save table into CSV to check the dataframe was correctly loaded\n",
    "indicators_by_country.to_csv('cleaned-databases/indicators-by-country.csv', index=False)"
   ]
  },
  {
   "cell_type": "markdown",
   "metadata": {},
   "source": [
    "### Transport Oil Subsidies\n",
    "\n",
    "This sheet contains a single table showing transport oil subsidies,  \n",
    "reported in real 2023 million USD."
   ]
  },
  {
   "cell_type": "code",
   "execution_count": 23,
   "metadata": {},
   "outputs": [],
   "source": [
    "# Load sheet into dataframe\n",
    "df_transport_oil_subsidies = pd.read_excel(file_path, sheet_name=\"Transport Oil Subsidies\", header=None)\n",
    "\n",
    "\n",
    "# Use the first row of the table as the header\n",
    "transport_oil_subsidies_raw = df_transport_oil_subsidies.iloc[4:54].copy()\n",
    "transport_oil_subsidies_raw.columns = transport_oil_subsidies_raw.iloc[0]\n",
    "# Exclude the header row from the data and reset the index\n",
    "transport_oil_subsidies = transport_oil_subsidies_raw.iloc[1:].reset_index(drop=True)\n",
    "\n",
    "# Save table into CSV to check the dataframe was correctly loaded\n",
    "transport_oil_subsidies.to_csv('cleaned-databases/transport-oil-subsidies.csv', index=False)"
   ]
  },
  {
   "cell_type": "markdown",
   "metadata": {},
   "source": [
    "### Subsidies for Clean Energy\n",
    "\n",
    "There is no straightforward way to download the raw data provided by the IEA.  \n",
    "However, they offer interactive tables and graphs. It is possible to copy the  \n",
    "table data into a `.txt` file, though the formatting is inconsistent.\n",
    "\n",
    "Regular expressions were used to clean the data, as tabs, carriage returns (CR),  \n",
    "and blank lines were mixed as separators.\n",
    "\n",
    "The total is also displayed on the website:  \n",
    "**Total commitment:** 2,957.26 billion USD  \n",
    "**Largest spending area:** Energy affordability\n",
    "\n",
    "The strategy used involves identifying the end of each line by detecting digits,  \n",
    "since the last column (budget) is the only numeric one.  \n",
    "However, it's important to account for rows that contain \"`< 1`\" as the budget value.\n",
    "\n",
    "Function docstrings provide more detailed explanations of the cleaning logic."
   ]
  },
  {
   "cell_type": "code",
   "execution_count": 24,
   "metadata": {},
   "outputs": [],
   "source": [
    "\n",
    "# Assuming the budget line should contain only digits, spacing characters or \"< 1\".\n",
    "def is_budget_line(line):\n",
    "    \"\"\"\n",
    "    Return True if the line appears to be a budget commitment.\n",
    "    The function also accepts an optional leading '<' or '>' before\n",
    "    a number. It also strips non-breaking spaces.\n",
    "    \"\"\"\n",
    "    # Remove standard whitespace and common non-breaking spaces.\n",
    "    clean = line.strip().replace(\"\\u202f\", \"\").replace(\"\\xa0\", \"\")\n",
    "    #   ^[<>]?\\s* => Allows an optional < or > followed by any spaces.\n",
    "    #   [\\d\\s]+   => Must have at least one digit (allowing spaces as thousands separators).\n",
    "    #   (?:[.,]\\d+)?$ => Optionally followed by a decimal separator and digits.\n",
    "    pattern = r'^[<>]?\\s*[\\d\\s]+(?:[.,]\\d+)?$'\n",
    "    return bool(re.fullmatch(pattern, clean))\n",
    "\n",
    "def parse_record(record_lines):\n",
    "    \"\"\"\n",
    "    Given a list of lines for one record, extract:\n",
    "    Country/region, Policy, Measures, Start year, Status, Budget commitment.\n",
    "    \n",
    "    The assumptions:\n",
    "      - First line: country and policy separated by a tab.\n",
    "      - Last line: budget commitment.\n",
    "      - Among the remaining lines, the highest-indexed line that contains a tab\n",
    "        is assumed to be the \"year line\" with tokens: [optional measure part, start year, status].\n",
    "      - All lines (if any) between the first and the year line are additional measures.\n",
    "    \"\"\"\n",
    "    if len(record_lines) < 2:\n",
    "        return None  # not enough info\n",
    "    \n",
    "    # First line: country and policy.\n",
    "    first_line_tokens = record_lines[0].split('\\t')\n",
    "    country = first_line_tokens[0].strip()\n",
    "    policy = first_line_tokens[1].strip() if len(first_line_tokens) > 1 else ''\n",
    "    \n",
    "    # Last line is the budget.\n",
    "    budget = record_lines[-1].strip()\n",
    "    # Remove blank space if necessary (e.g. 30 000)\n",
    "    budget = re.sub(r\"[\\u202f\\u00a0\\s]\", \"\", record_lines[-1])\n",
    "\n",
    "    # Identify the \"year line\": search from the end (excluding the budget)\n",
    "    year_line_idx = None\n",
    "    for i in range(len(record_lines) - 2, 0, -1):  # from second-to-last to second line\n",
    "        if '\\t' in record_lines[i]:\n",
    "            year_line_idx = i\n",
    "            break\n",
    "    if year_line_idx is None:\n",
    "        # Fallback: if not found, then assume the second line is the year line.\n",
    "        year_line_idx = 1\n",
    "    \n",
    "    # Process the year line.\n",
    "    year_line_tokens = [token.strip() for token in record_lines[year_line_idx].split('\\t')]\n",
    "    # The first token from the year line might be a continuation of measures.\n",
    "    additional_measure = year_line_tokens[0] if year_line_tokens[0] else ''\n",
    "    start_year = year_line_tokens[1] if len(year_line_tokens) > 1 else ''\n",
    "    status = year_line_tokens[2] if len(year_line_tokens) > 2 else ''\n",
    "    \n",
    "    # Other lines between the first line and the identified year line are also measures.\n",
    "    measure_parts = []\n",
    "    if year_line_idx > 1:\n",
    "        for line in record_lines[1:year_line_idx]:\n",
    "            measure_parts.append(line.strip())\n",
    "    # Add the first token of the year line as well.\n",
    "    if additional_measure:\n",
    "        measure_parts.append(additional_measure)\n",
    "    measures = \" \".join(measure_parts).strip()\n",
    "    \n",
    "    return [country, policy, measures, start_year, status, budget]\n",
    "\n",
    "# Read the original file\n",
    "with open('original-databases\\Government Energy Spending Tracker Policy Database.txt', \"r\", encoding=\"utf-8\") as f:\n",
    "    lines = f.readlines()\n",
    "\n",
    "# Remove header line and strip whitespace.\n",
    "header_line = lines[0].strip()\n",
    "headers = [h.strip() for h in header_line.split(',')]\n",
    "data_lines = [line.rstrip() for line in lines[1:] if line.rstrip() != \"\"]\n",
    "\n",
    "# Group lines into records based on detection of budget lines.\n",
    "records = []\n",
    "current_record = []\n",
    "\n",
    "for line in data_lines:\n",
    "    # Append the line to the current record.\n",
    "    current_record.append(line)\n",
    "    # If this line qualifies as a budget line, assume the record is complete.\n",
    "    if is_budget_line(line):\n",
    "        records.append(current_record)\n",
    "        current_record = []\n",
    "\n",
    "# Parse each record into a list of fields.\n",
    "parsed_rows = []\n",
    "for rec in records:\n",
    "    parsed = parse_record(rec)\n",
    "    if parsed:\n",
    "        parsed_rows.append(parsed)\n",
    "    else:\n",
    "        print(\"Warning: Failed parsing record:\", rec)\n",
    "\n",
    "# Create a DataFrame and save the result to a CSV.\n",
    "df_renewable_subsidies = pd.DataFrame(parsed_rows, columns=headers)\n",
    "df_renewable_subsidies.to_csv(\"cleaned-databases/renewable-subsidies.csv\", index=False)"
   ]
  },
  {
   "cell_type": "markdown",
   "metadata": {},
   "source": [
    "### World Bank API\n",
    "\n",
    "The World Bank provides access to its API without requiring authentication.  \n",
    "Using this, the population data for all countries was queried starting from 2013  \n",
    "to perform per capita calculations. The API offers both XML and JSON responses,  \n",
    "and the latter was chosen for this analysis, following the World Bank API Best\n",
    "Practices Guideline."
   ]
  },
  {
   "cell_type": "code",
   "execution_count": 25,
   "metadata": {},
   "outputs": [],
   "source": [
    "# World Bank API URL for total population from 2013 to 2019\n",
    "url = \"https://api.worldbank.org/v2/country/all/indicator/SP.POP.TOTL?date=2013:2019&per_page=6000&format=json\"\n",
    "\n",
    "try:\n",
    "    response = requests.get(url)\n",
    "    response.raise_for_status()\n",
    "\n",
    "    data = response.json()\n",
    "    population_data = data[1]  # List of population records\n",
    "\n",
    "    # Write a CSV file with the fetched response\n",
    "    with open(\"cleaned-databases/world_population_2013_2019.csv\", mode=\"w\", newline='', encoding=\"utf-8\") as file:\n",
    "        writer = csv.writer(file)\n",
    "\n",
    "        # CSV header\n",
    "        writer.writerow([\"Country\", \"Country ISO3 Code\", \"Year\", \"Population\"])\n",
    "\n",
    "        # Write only rows where population value exists (Smaller territories do not have a value)\n",
    "        for item in population_data:\n",
    "            if item['value'] is not None:\n",
    "                writer.writerow([\n",
    "                    item['country']['value'],\n",
    "                    item['country']['id'],\n",
    "                    item['date'],\n",
    "                    item['value']\n",
    "                ])\n",
    "\n",
    "except requests.exceptions.HTTPError as http_err:\n",
    "    print(f\"HTTP error occurred: {http_err}\")\n",
    "except Exception as err:\n",
    "    print(f\"An error occurred: {err}\")\n"
   ]
  },
  {
   "cell_type": "markdown",
   "metadata": {},
   "source": [
    "# Visualization"
   ]
  },
  {
   "cell_type": "code",
   "execution_count": 26,
   "metadata": {},
   "outputs": [],
   "source": [
    "# Power plant distribution"
   ]
  },
  {
   "cell_type": "code",
   "execution_count": 27,
   "metadata": {},
   "outputs": [],
   "source": [
    "# Installed power capacity distribution"
   ]
  },
  {
   "cell_type": "code",
   "execution_count": 28,
   "metadata": {},
   "outputs": [],
   "source": [
    "# Renewable and non-renewable energy distribution"
   ]
  },
  {
   "cell_type": "code",
   "execution_count": 29,
   "metadata": {},
   "outputs": [],
   "source": [
    "# Renewable energy subsidies per country"
   ]
  },
  {
   "cell_type": "code",
   "execution_count": 30,
   "metadata": {},
   "outputs": [],
   "source": [
    "# Renewable energy subsidies per country and per capita"
   ]
  },
  {
   "cell_type": "code",
   "execution_count": 31,
   "metadata": {},
   "outputs": [],
   "source": [
    "# Fossil fuel subsidies per country"
   ]
  },
  {
   "cell_type": "code",
   "execution_count": 32,
   "metadata": {},
   "outputs": [],
   "source": [
    "# Fossil fuel subsidies per country and per capita"
   ]
  },
  {
   "cell_type": "code",
   "execution_count": 33,
   "metadata": {},
   "outputs": [],
   "source": [
    "# Renewable and non-renewable energy evolution"
   ]
  },
  {
   "cell_type": "code",
   "execution_count": 34,
   "metadata": {},
   "outputs": [],
   "source": [
    "# Renewable and non-renewable energy per continent"
   ]
  }
 ],
 "metadata": {
  "kernelspec": {
   "display_name": ".venv",
   "language": "python",
   "name": "python3"
  },
  "language_info": {
   "codemirror_mode": {
    "name": "ipython",
    "version": 3
   },
   "file_extension": ".py",
   "mimetype": "text/x-python",
   "name": "python",
   "nbconvert_exporter": "python",
   "pygments_lexer": "ipython3",
   "version": "3.11.2"
  }
 },
 "nbformat": 4,
 "nbformat_minor": 2
}
